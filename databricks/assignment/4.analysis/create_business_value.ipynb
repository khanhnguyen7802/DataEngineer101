{
 "cells": [
  {
   "cell_type": "code",
   "execution_count": 0,
   "metadata": {
    "application/vnd.databricks.v1+cell": {
     "cellMetadata": {
      "byteLimit": 2048000,
      "implicitDf": true,
      "rowLimit": 10000
     },
     "inputWidgets": {},
     "nuid": "2338cc53-bae8-452d-a798-f691da92268d",
     "showTitle": false,
     "tableResultSettingsMap": {},
     "title": ""
    }
   },
   "outputs": [],
   "source": [
    "%sql\n",
    "DROP TABLE IF EXISTS stg_product; -- staging table to store \n",
    "CREATE TABLE IF NOT EXISTS stg_product (\n",
    "  sku INT NOT NULL,\n",
    "  product_name STRING,\n",
    "  product_type STRING,\n",
    "  description STRING,\n",
    "  price DOUBLE\n",
    ") USING DELTA;\n"
   ]
  },
  {
   "cell_type": "code",
   "execution_count": 0,
   "metadata": {
    "application/vnd.databricks.v1+cell": {
     "cellMetadata": {},
     "inputWidgets": {},
     "nuid": "208726c5-5eb7-4b01-8e3a-22db505993cc",
     "showTitle": false,
     "tableResultSettingsMap": {},
     "title": ""
    }
   },
   "outputs": [],
   "source": []
  },
  {
   "cell_type": "markdown",
   "metadata": {
    "application/vnd.databricks.v1+cell": {
     "cellMetadata": {},
     "inputWidgets": {},
     "nuid": "a478a758-a86f-4290-bb2d-d6fb57e223d9",
     "showTitle": false,
     "tableResultSettingsMap": {},
     "title": ""
    }
   },
   "source": [
    "### General constraint check"
   ]
  },
  {
   "cell_type": "code",
   "execution_count": 0,
   "metadata": {
    "application/vnd.databricks.v1+cell": {
     "cellMetadata": {
      "byteLimit": 2048000,
      "implicitDf": true,
      "rowLimit": 10000
     },
     "inputWidgets": {},
     "nuid": "2e70fa83-2cb3-467f-be92-4df093f01f02",
     "showTitle": false,
     "tableResultSettingsMap": {},
     "title": ""
    }
   },
   "outputs": [],
   "source": [
    "%sql\n",
    "SELECT *\n",
    "FROM silver.cleansed_sales\n",
    "WHERE \n",
    "  product_type IS NULL\n",
    "  OR total_revenue < 0                        \n",
    "  OR sale_date IS NULL             "
   ]
  },
  {
   "cell_type": "code",
   "execution_count": 0,
   "metadata": {
    "application/vnd.databricks.v1+cell": {
     "cellMetadata": {
      "byteLimit": 2048000,
      "implicitDf": true,
      "rowLimit": 10000
     },
     "inputWidgets": {},
     "nuid": "5a1e1127-4d95-44f8-bedc-709ed52181f6",
     "showTitle": false,
     "tableResultSettingsMap": {},
     "title": ""
    }
   },
   "outputs": [],
   "source": [
    "%sql\n",
    "SELECT * \n",
    "FROM silver.cleansed_sales"
   ]
  },
  {
   "cell_type": "code",
   "execution_count": 0,
   "metadata": {
    "application/vnd.databricks.v1+cell": {
     "cellMetadata": {
      "byteLimit": 2048000,
      "implicitDf": true,
      "rowLimit": 10000
     },
     "inputWidgets": {},
     "nuid": "4ba236b0-0cd3-41fc-a5ee-78d9cc83a225",
     "showTitle": false,
     "tableResultSettingsMap": {},
     "title": ""
    }
   },
   "outputs": [],
   "source": [
    "%sql\n",
    "CREATE OR REPLACE TEMP VIEW viewProduct\n",
    "AS\n",
    "(\n",
    "  SELECT\n",
    "    sku,\n",
    "    name,\n",
    "    product_type,\n",
    "    description,\n",
    "    price\n",
    "  FROM silver.cleansed_sales\n",
    ")"
   ]
  },
  {
   "cell_type": "code",
   "execution_count": 0,
   "metadata": {
    "application/vnd.databricks.v1+cell": {
     "cellMetadata": {
      "byteLimit": 2048000,
      "rowLimit": 10000
     },
     "inputWidgets": {},
     "nuid": "dca2b139-5b5e-4ba3-85a7-7904de3affc4",
     "showTitle": false,
     "tableResultSettingsMap": {},
     "title": ""
    }
   },
   "outputs": [],
   "source": [
    "spark.sql(\"INSERT INTO stg_product SELECT * FROM viewProduct\")"
   ]
  },
  {
   "cell_type": "markdown",
   "metadata": {
    "application/vnd.databricks.v1+cell": {
     "cellMetadata": {},
     "inputWidgets": {},
     "nuid": "56c6ab28-499a-489a-b445-e0f8e7543190",
     "showTitle": false,
     "tableResultSettingsMap": {},
     "title": ""
    }
   },
   "source": [
    "### Create the `dim_product` table"
   ]
  },
  {
   "cell_type": "code",
   "execution_count": 0,
   "metadata": {
    "application/vnd.databricks.v1+cell": {
     "cellMetadata": {
      "byteLimit": 2048000,
      "implicitDf": true,
      "rowLimit": 10000
     },
     "inputWidgets": {},
     "nuid": "7e84a055-4a2b-4790-833c-70a131181204",
     "showTitle": false,
     "tableResultSettingsMap": {},
     "title": ""
    }
   },
   "outputs": [],
   "source": [
    "%sql\n",
    "CREATE TABLE IF NOT EXISTS gold.dim_product (\n",
    "  sku INT NOT NULL,\n",
    "  product_name STRING,\n",
    "  product_type STRING,\n",
    "  description STRING,\n",
    "  price DOUBLE,\n",
    "  starting_date DATE NOT NULL,\n",
    "  ending_date DATE,\n",
    "  activate BOOLEAN NOT NULL\n",
    ") USING DELTA;\n"
   ]
  },
  {
   "cell_type": "code",
   "execution_count": 0,
   "metadata": {
    "application/vnd.databricks.v1+cell": {
     "cellMetadata": {
      "byteLimit": 2048000,
      "implicitDf": true,
      "rowLimit": 10000
     },
     "inputWidgets": {},
     "nuid": "31c3e051-0786-4cf2-83c5-5e2d7b24d938",
     "showTitle": false,
     "tableResultSettingsMap": {},
     "title": ""
    }
   },
   "outputs": [],
   "source": [
    "%sql\n",
    "DROP TABLE IF EXISTS gold.fact_daily_sales;\n",
    "\n",
    "CREATE TABLE IF NOT EXISTS gold.fact_daily_sales (\n",
    "  sale_date DATE,\n",
    "  sku INT NOT NULL,\n",
    "  transaction_price DOUBLE,\n",
    "  sold INT, \n",
    "  total_revenue DOUBLE\n",
    ") USING DELTA;"
   ]
  },
  {
   "cell_type": "code",
   "execution_count": 0,
   "metadata": {
    "application/vnd.databricks.v1+cell": {
     "cellMetadata": {},
     "inputWidgets": {},
     "nuid": "7520976f-bd1a-4c81-ac28-7613d478b460",
     "showTitle": false,
     "tableResultSettingsMap": {},
     "title": ""
    }
   },
   "outputs": [],
   "source": []
  },
  {
   "cell_type": "code",
   "execution_count": 0,
   "metadata": {
    "application/vnd.databricks.v1+cell": {
     "cellMetadata": {},
     "inputWidgets": {},
     "nuid": "a134ec25-479c-4bc3-8b04-d4f3b51b3767",
     "showTitle": false,
     "tableResultSettingsMap": {},
     "title": ""
    }
   },
   "outputs": [],
   "source": [
    "# df = spark.read.table(\"silver.cleansed_sales\")\n",
    "\n",
    "# # Show the data\n",
    "# df.show()"
   ]
  },
  {
   "cell_type": "code",
   "execution_count": 0,
   "metadata": {
    "application/vnd.databricks.v1+cell": {
     "cellMetadata": {
      "byteLimit": 2048000,
      "implicitDf": true,
      "rowLimit": 10000
     },
     "inputWidgets": {},
     "nuid": "d062eea9-1a3a-48f4-a65a-f5d4b4fe19ad",
     "showTitle": false,
     "tableResultSettingsMap": {},
     "title": ""
    }
   },
   "outputs": [],
   "source": [
    "%sql\n",
    "SELECT COUNT(*)\n",
    "FROM gold.dim_product"
   ]
  },
  {
   "cell_type": "code",
   "execution_count": 0,
   "metadata": {
    "application/vnd.databricks.v1+cell": {
     "cellMetadata": {},
     "inputWidgets": {},
     "nuid": "9ee50e83-b9f9-4140-8502-8bbbf5e4de98",
     "showTitle": false,
     "tableResultSettingsMap": {},
     "title": ""
    }
   },
   "outputs": [],
   "source": []
  },
  {
   "cell_type": "code",
   "execution_count": 0,
   "metadata": {
    "application/vnd.databricks.v1+cell": {
     "cellMetadata": {},
     "inputWidgets": {},
     "nuid": "22519d20-e328-4971-b9fd-ee70c4cd78fd",
     "showTitle": false,
     "tableResultSettingsMap": {},
     "title": ""
    }
   },
   "outputs": [],
   "source": []
  },
  {
   "cell_type": "code",
   "execution_count": 0,
   "metadata": {
    "application/vnd.databricks.v1+cell": {
     "cellMetadata": {
      "byteLimit": 2048000,
      "rowLimit": 10000
     },
     "inputWidgets": {},
     "nuid": "69cfc512-2d62-4456-a3c7-d1abfad7bcd5",
     "showTitle": false,
     "tableResultSettingsMap": {},
     "title": ""
    }
   },
   "outputs": [],
   "source": [
    "processing_sale_date_str = '2025-05-19' # First run for our example\n",
    "\n",
    "# Stage 1: Prepare current day's product attributes from silver.cleansed_sales\n",
    "# We need a consistent view of product attributes for a SKU on a given sale_date.\n",
    "# If a SKU appears multiple times, we pick one (e.g., based on highest price, or assume they are consistent).\n",
    "query_stage_silver_products = f\"\"\"\n",
    "        CREATE OR REPLACE TEMPORARY VIEW StagedSilverProductAttributes AS\n",
    "        WITH RankedSilver AS (\n",
    "            SELECT\n",
    "                sku,\n",
    "                name AS product_name, \n",
    "                product_type,         \n",
    "                price,                -- transaction price in that particular day\n",
    "                description,          \n",
    "                sale_date,\n",
    "                1 as rn -- row number (assume records are not duplicated)\n",
    "            FROM silver.cleansed_sales\n",
    "            WHERE sale_date = DATE'{processing_sale_date_str}'\n",
    "        )\n",
    "        SELECT\n",
    "            sku,\n",
    "            product_name,\n",
    "            product_type,\n",
    "            price,      -- representative price for the dim_product\n",
    "            description,\n",
    "            sale_date AS starting_date -- effective date from\n",
    "        FROM RankedSilver\n",
    "        WHERE rn = 1;\n",
    "\n",
    "        \"\"\"\n",
    "spark.sql(query_stage_silver_products)\n",
    "print(\"StagedSilverProductAttributes created for the current processing date.\")\n",
    "\n",
    "\n",
    "# Stage 2: MERGE into Gold.dim_product to handle SCD Type 2\n",
    "# This MERGE will expire old records if attributes change.\n",
    "query_dim_product_scd2_merge = f\"\"\"\n",
    "        MERGE INTO gold.dim_product AS tgt\n",
    "        USING (\n",
    "            SELECT\n",
    "                s.sku,\n",
    "                s.product_name, \n",
    "                s.product_type,\n",
    "                s.price,\n",
    "                s.description,\n",
    "                s.starting_date\n",
    "            FROM StagedSilverProductAttributes s\n",
    "        ) AS src\n",
    "        ON tgt.sku = src.sku AND tgt.activate = TRUE\n",
    "\n",
    "        -- SKU exists and is activated. Check if attributes changed.\n",
    "        WHEN MATCHED AND (\n",
    "            tgt.product_name <> src.product_name OR\n",
    "            tgt.product_type <> src.product_type OR\n",
    "            tgt.price <> src.price OR              -- Assuming transaction price from silver drives dim price\n",
    "            tgt.description <> src.description\n",
    "        )\n",
    "        THEN UPDATE SET\n",
    "            tgt.activate = FALSE,\n",
    "            tgt.ending_date = DATE_SUB(src.starting_date, 1); -- Expire previous day\n",
    "        \"\"\"\n",
    "spark.sql(query_dim_product_scd2_merge)\n",
    "print(\"Dim_Product MERGE (for expiring old versions) completed.\")\n",
    "\n",
    "\n",
    "# Stage 3: INSERT new products OR new versions of changed products into Gold.Dim_Product\n",
    "query_dim_product_scd2_insert = f\"\"\"\n",
    "        INSERT INTO gold.dim_product (\n",
    "            sku, product_name, product_type, price, description,\n",
    "            starting_date, ending_date, activate\n",
    "        )\n",
    "        SELECT\n",
    "            s.sku,\n",
    "            s.product_name,\n",
    "            s.product_type,\n",
    "            s.price,\n",
    "            s.description,\n",
    "            s.starting_date,\n",
    "            DATE'9999-12-31' AS ending_date, -- just random invalid date as a placeholder\n",
    "            TRUE AS activate\n",
    "        FROM StagedSilverProductAttributes s\n",
    "        LEFT JOIN gold.dim_product existing_current_dim\n",
    "            ON s.sku = existing_current_dim.sku AND existing_current_dim.activate = TRUE\n",
    "        WHERE\n",
    "            existing_current_dim.sku IS NULL -- new to Dim_Product\n",
    "                                            -- or its previous current record was just expired by the MERGE,\n",
    "                                            -- so no 'activate = TRUE' record exists for it now.\n",
    "        ;\n",
    "        \"\"\"\n",
    "spark.sql(query_dim_product_scd2_insert)\n",
    "print(\"Dim_Product INSERT (for new/updated versions) completed.\")\n",
    "\n",
    "\n",
    "# Stage 4: Load Gold.Fact_Daily_Sales\n",
    "\n",
    "# delete records (if there's any)\n",
    "spark.sql(f\"DELETE FROM gold.fact_daily_sales WHERE sale_date = DATE'{processing_sale_date_str}'\")\n",
    "print(f\"Deleted existing fact records for {processing_sale_date_str} (if any).\")\n",
    "\n",
    "query_fact_sales_insert = f\"\"\"\n",
    "        INSERT INTO gold.fact_daily_sales (\n",
    "            sale_date, sku, transaction_price, sold, total_revenue\n",
    "        )\n",
    "        SELECT\n",
    "            s.sale_date,\n",
    "            s.sku, \n",
    "            s.price AS transaction_price,\n",
    "            s.sold AS amount_sold,\n",
    "            s.total_revenue\n",
    "        FROM silver.cleansed_sales s\n",
    "        JOIN gold.dim_product dp\n",
    "            ON s.sku = dp.sku\n",
    "            AND s.sale_date >= dp.starting_date  -- Product version was active on or before sale_date\n",
    "            AND s.sale_date <= dp.ending_date    -- Product version was active on or before sale_date\n",
    "        WHERE s.sale_date = DATE'{processing_sale_date_str}'\n",
    "        \"\"\"\n",
    "spark.sql(query_fact_sales_insert)\n",
    "print(\"Fact_Daily_Sales INSERT completed.\")\n",
    "\n",
    "# Clean up temp view\n",
    "spark.sql(\"DROP VIEW StagedSilverProductAttributes\")\n",
    "print(\"Temp view dropped.\")"
   ]
  },
  {
   "cell_type": "code",
   "execution_count": 0,
   "metadata": {
    "application/vnd.databricks.v1+cell": {
     "cellMetadata": {
      "byteLimit": 2048000,
      "implicitDf": true,
      "rowLimit": 10000
     },
     "inputWidgets": {},
     "nuid": "bbd32f85-ed7d-496c-a3cc-adf05e0ed20a",
     "showTitle": false,
     "tableResultSettingsMap": {},
     "title": ""
    }
   },
   "outputs": [],
   "source": [
    "%sql \n",
    "SELECT (*)\n",
    "FROM gold.fact_daily_sales"
   ]
  },
  {
   "cell_type": "code",
   "execution_count": 0,
   "metadata": {
    "application/vnd.databricks.v1+cell": {
     "cellMetadata": {},
     "inputWidgets": {},
     "nuid": "fc1f4909-3402-4c5a-9801-b09d438f7942",
     "showTitle": false,
     "tableResultSettingsMap": {},
     "title": ""
    }
   },
   "outputs": [],
   "source": []
  }
 ],
 "metadata": {
  "application/vnd.databricks.v1+notebook": {
   "computePreferences": null,
   "dashboards": [],
   "environmentMetadata": {
    "base_environment": "",
    "environment_version": "2"
   },
   "inputWidgetPreferences": null,
   "language": "python",
   "notebookMetadata": {
    "mostRecentlyExecutedCommandWithImplicitDF": {
     "commandId": 5160153743779653,
     "dataframes": [
      "_sqldf"
     ]
    },
    "pythonIndentUnit": 4
   },
   "notebookName": "create_business_value",
   "widgets": {}
  },
  "language_info": {
   "name": "python"
  }
 },
 "nbformat": 4,
 "nbformat_minor": 0
}
